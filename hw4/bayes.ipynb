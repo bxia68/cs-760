{
 "cells": [
  {
   "cell_type": "code",
   "execution_count": 4,
   "metadata": {},
   "outputs": [],
   "source": [
    "from collections import Counter\n",
    "from string import ascii_lowercase as alc\n",
    "from math import log"
   ]
  },
  {
   "cell_type": "code",
   "execution_count": 5,
   "metadata": {},
   "outputs": [],
   "source": [
    "def generateCounter() -> Counter:\n",
    "    letter_dict = {}\n",
    "    for i in alc:\n",
    "        letter_dict[i] = 1\n",
    "    letter_dict[' '] = 1\n",
    "    return Counter(letter_dict)"
   ]
  },
  {
   "cell_type": "code",
   "execution_count": 6,
   "metadata": {},
   "outputs": [],
   "source": [
    "def sumLetters(file: str, word_counter) -> Counter:\n",
    "    text_file = open(file, 'r')\n",
    "    data = text_file.read()\n",
    "    \n",
    "    counter = Counter(data.lower().replace('\\n', ''))\n",
    "\n",
    "    text_file.close()\n",
    "    return word_counter + counter"
   ]
  },
  {
   "cell_type": "code",
   "execution_count": 7,
   "metadata": {},
   "outputs": [],
   "source": [
    "def letter_counter(language: str, file_range: tuple[int, int]) -> Counter:\n",
    "    word_bag = generateCounter()\n",
    "    for i in range(file_range[0], file_range[1]):\n",
    "        word_bag = sumLetters(f'languageID/{language}{i}.txt', word_bag)\n",
    "    return word_bag - generateCounter()"
   ]
  },
  {
   "cell_type": "code",
   "execution_count": 8,
   "metadata": {},
   "outputs": [],
   "source": [
    "def letter_vector(language: str, file_range: tuple[int, int] = (0, 10)):\n",
    "    word_bag = letter_counter(language, file_range)\n",
    "    total = sum(word_bag.values())\n",
    "    vector = {}\n",
    "    for key in word_bag:\n",
    "        vector[key] = (word_bag[key] + 1/2) / (total + 27 + 1/2)\n",
    "    return vector"
   ]
  },
  {
   "cell_type": "code",
   "execution_count": 9,
   "metadata": {},
   "outputs": [],
   "source": [
    "def prob(bag: list[int], vector: list[float]) -> float:\n",
    "    output = 0\n",
    "    for i in alc + ' ':\n",
    "        if not i in bag or not i in vector:\n",
    "            continue\n",
    "        output += bag[i] * log(vector[i])\n",
    "    return output"
   ]
  },
  {
   "cell_type": "code",
   "execution_count": 13,
   "metadata": {},
   "outputs": [
    {
     "data": {
      "text/plain": [
       "{'a': 0.10447025478295696,\n",
       " 'b': 0.008225761730182692,\n",
       " 'c': 0.03749345327952186,\n",
       " 'd': 0.03971163621799809,\n",
       " 'e': 0.1137126836932746,\n",
       " 'f': 0.008595458886595398,\n",
       " 'g': 0.0071782864536800274,\n",
       " 'h': 0.004528790166055639,\n",
       " 'i': 0.04981669182661203,\n",
       " 'j': 0.006623740719060969,\n",
       " 'k': 0.00027727286730952895,\n",
       " 'l': 0.05289750146338458,\n",
       " 'm': 0.02578637665978619,\n",
       " 'n': 0.05412982531809359,\n",
       " 'o': 0.0724298345605225,\n",
       " 'p': 0.02424597184139992,\n",
       " 'q': 0.0076712159955636345,\n",
       " 'r': 0.059243969315136015,\n",
       " 's': 0.06571366955235836,\n",
       " 't': 0.03558335130472288,\n",
       " 'u': 0.0336732493299239,\n",
       " 'v': 0.005884346406235559,\n",
       " 'w': 9.242428910317632e-05,\n",
       " 'x': 0.0024954558057857603,\n",
       " 'y': 0.007856064573769988,\n",
       " 'z': 0.002680304383992113,\n",
       " ' ': 0.1681197818786777}"
      ]
     },
     "execution_count": 13,
     "metadata": {},
     "output_type": "execute_result"
    }
   ],
   "source": [
    "letter_vector('s', (0, 10))\n",
    "# for key in bag:\n",
    "#     print(bag[key], \"\\\\\\\\\")"
   ]
  },
  {
   "cell_type": "code",
   "execution_count": 11,
   "metadata": {},
   "outputs": [
    {
     "name": "stdout",
     "output_type": "stream",
     "text": [
      "es\n",
      "es\n",
      "es\n",
      "es\n",
      "es\n",
      "es\n",
      "es\n",
      "es\n",
      "es\n",
      "es\n"
     ]
    }
   ],
   "source": [
    "for i in range(10, 20):\n",
    "    bag = letter_counter(\"s\", (i, i + 1))\n",
    "    engl = prob(bag, letter_vector(\"e\", (0, 10)))\n",
    "    jpn = prob(bag, letter_vector(\"j\", (0, 10)))\n",
    "    es = prob(bag, letter_vector(\"s\", (0, 10)))\n",
    "    if engl > jpn and engl > es:\n",
    "        print(\"engl\")\n",
    "    elif jpn > es:\n",
    "        print(\"jpn\")\n",
    "    else:\n",
    "        print(\"es\")"
   ]
  }
 ],
 "metadata": {
  "kernelspec": {
   "display_name": "Python 3",
   "language": "python",
   "name": "python3"
  },
  "language_info": {
   "codemirror_mode": {
    "name": "ipython",
    "version": 3
   },
   "file_extension": ".py",
   "mimetype": "text/x-python",
   "name": "python",
   "nbconvert_exporter": "python",
   "pygments_lexer": "ipython3",
   "version": "3.11.2"
  },
  "orig_nbformat": 4,
  "vscode": {
   "interpreter": {
    "hash": "aee8b7b246df8f9039afb4144a1f6fd8d2ca17a180786b69acc140d282b71a49"
   }
  }
 },
 "nbformat": 4,
 "nbformat_minor": 2
}
